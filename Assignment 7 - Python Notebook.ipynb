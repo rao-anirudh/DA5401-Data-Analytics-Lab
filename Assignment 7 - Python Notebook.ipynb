{
 "cells": [
  {
   "cell_type": "markdown",
   "metadata": {
    "id": "hEXSH30pJItR"
   },
   "source": [
    "**Name**: Anirudh Rao\n",
    "\n",
    "**Roll No.**: BE21B004"
   ]
  },
  {
   "cell_type": "markdown",
   "metadata": {
    "id": "ViA_sDuLJJlW"
   },
   "source": [
    "\n",
    "\n",
    "---\n",
    "\n"
   ]
  },
  {
   "cell_type": "code",
   "execution_count": null,
   "metadata": {
    "id": "EtEapu3DYNnJ"
   },
   "outputs": [],
   "source": [
    "import numpy as np\n",
    "import pandas as pd\n",
    "import matplotlib.pyplot as plt"
   ]
  },
  {
   "cell_type": "markdown",
   "metadata": {
    "id": "0byP0AeXJxcM"
   },
   "source": [
    "We import the training set of the IDA2016 Challenge."
   ]
  },
  {
   "cell_type": "code",
   "execution_count": null,
   "metadata": {
    "id": "OHIN1zhuYtsK"
   },
   "outputs": [],
   "source": [
    "df = pd.read_csv(\"aps_failure_training_set.csv\")"
   ]
  },
  {
   "cell_type": "code",
   "execution_count": null,
   "metadata": {
    "colab": {
     "base_uri": "https://localhost:8080/"
    },
    "id": "tKuTD1i_fPKp",
    "outputId": "a091cfd0-4274-41f4-fde6-90c1c33ca52d"
   },
   "outputs": [
    {
     "data": {
      "text/plain": [
       "60000"
      ]
     },
     "execution_count": 3,
     "metadata": {},
     "output_type": "execute_result"
    }
   ],
   "source": [
    "len(df)"
   ]
  },
  {
   "cell_type": "code",
   "execution_count": null,
   "metadata": {
    "colab": {
     "base_uri": "https://localhost:8080/",
     "height": 255
    },
    "id": "Il7M-toQY7LT",
    "outputId": "799860b4-2a26-47ef-c136-62b295c14714"
   },
   "outputs": [
    {
     "data": {
      "application/vnd.google.colaboratory.intrinsic+json": {
       "type": "dataframe",
       "variable_name": "df"
      },
      "text/html": [
       "\n",
       "  <div id=\"df-4f59d8e5-9b2b-47f9-b1a5-29335749332b\" class=\"colab-df-container\">\n",
       "    <div>\n",
       "<style scoped>\n",
       "    .dataframe tbody tr th:only-of-type {\n",
       "        vertical-align: middle;\n",
       "    }\n",
       "\n",
       "    .dataframe tbody tr th {\n",
       "        vertical-align: top;\n",
       "    }\n",
       "\n",
       "    .dataframe thead th {\n",
       "        text-align: right;\n",
       "    }\n",
       "</style>\n",
       "<table border=\"1\" class=\"dataframe\">\n",
       "  <thead>\n",
       "    <tr style=\"text-align: right;\">\n",
       "      <th></th>\n",
       "      <th>class</th>\n",
       "      <th>aa_000</th>\n",
       "      <th>ab_000</th>\n",
       "      <th>ac_000</th>\n",
       "      <th>ad_000</th>\n",
       "      <th>ae_000</th>\n",
       "      <th>af_000</th>\n",
       "      <th>ag_000</th>\n",
       "      <th>ag_001</th>\n",
       "      <th>ag_002</th>\n",
       "      <th>...</th>\n",
       "      <th>ee_002</th>\n",
       "      <th>ee_003</th>\n",
       "      <th>ee_004</th>\n",
       "      <th>ee_005</th>\n",
       "      <th>ee_006</th>\n",
       "      <th>ee_007</th>\n",
       "      <th>ee_008</th>\n",
       "      <th>ee_009</th>\n",
       "      <th>ef_000</th>\n",
       "      <th>eg_000</th>\n",
       "    </tr>\n",
       "  </thead>\n",
       "  <tbody>\n",
       "    <tr>\n",
       "      <th>0</th>\n",
       "      <td>neg</td>\n",
       "      <td>76698</td>\n",
       "      <td>na</td>\n",
       "      <td>2130706438</td>\n",
       "      <td>280</td>\n",
       "      <td>0</td>\n",
       "      <td>0</td>\n",
       "      <td>0</td>\n",
       "      <td>0</td>\n",
       "      <td>0</td>\n",
       "      <td>...</td>\n",
       "      <td>1240520</td>\n",
       "      <td>493384</td>\n",
       "      <td>721044</td>\n",
       "      <td>469792</td>\n",
       "      <td>339156</td>\n",
       "      <td>157956</td>\n",
       "      <td>73224</td>\n",
       "      <td>0</td>\n",
       "      <td>0</td>\n",
       "      <td>0</td>\n",
       "    </tr>\n",
       "    <tr>\n",
       "      <th>1</th>\n",
       "      <td>neg</td>\n",
       "      <td>33058</td>\n",
       "      <td>na</td>\n",
       "      <td>0</td>\n",
       "      <td>na</td>\n",
       "      <td>0</td>\n",
       "      <td>0</td>\n",
       "      <td>0</td>\n",
       "      <td>0</td>\n",
       "      <td>0</td>\n",
       "      <td>...</td>\n",
       "      <td>421400</td>\n",
       "      <td>178064</td>\n",
       "      <td>293306</td>\n",
       "      <td>245416</td>\n",
       "      <td>133654</td>\n",
       "      <td>81140</td>\n",
       "      <td>97576</td>\n",
       "      <td>1500</td>\n",
       "      <td>0</td>\n",
       "      <td>0</td>\n",
       "    </tr>\n",
       "    <tr>\n",
       "      <th>2</th>\n",
       "      <td>neg</td>\n",
       "      <td>41040</td>\n",
       "      <td>na</td>\n",
       "      <td>228</td>\n",
       "      <td>100</td>\n",
       "      <td>0</td>\n",
       "      <td>0</td>\n",
       "      <td>0</td>\n",
       "      <td>0</td>\n",
       "      <td>0</td>\n",
       "      <td>...</td>\n",
       "      <td>277378</td>\n",
       "      <td>159812</td>\n",
       "      <td>423992</td>\n",
       "      <td>409564</td>\n",
       "      <td>320746</td>\n",
       "      <td>158022</td>\n",
       "      <td>95128</td>\n",
       "      <td>514</td>\n",
       "      <td>0</td>\n",
       "      <td>0</td>\n",
       "    </tr>\n",
       "    <tr>\n",
       "      <th>3</th>\n",
       "      <td>neg</td>\n",
       "      <td>12</td>\n",
       "      <td>0</td>\n",
       "      <td>70</td>\n",
       "      <td>66</td>\n",
       "      <td>0</td>\n",
       "      <td>10</td>\n",
       "      <td>0</td>\n",
       "      <td>0</td>\n",
       "      <td>0</td>\n",
       "      <td>...</td>\n",
       "      <td>240</td>\n",
       "      <td>46</td>\n",
       "      <td>58</td>\n",
       "      <td>44</td>\n",
       "      <td>10</td>\n",
       "      <td>0</td>\n",
       "      <td>0</td>\n",
       "      <td>0</td>\n",
       "      <td>4</td>\n",
       "      <td>32</td>\n",
       "    </tr>\n",
       "    <tr>\n",
       "      <th>4</th>\n",
       "      <td>neg</td>\n",
       "      <td>60874</td>\n",
       "      <td>na</td>\n",
       "      <td>1368</td>\n",
       "      <td>458</td>\n",
       "      <td>0</td>\n",
       "      <td>0</td>\n",
       "      <td>0</td>\n",
       "      <td>0</td>\n",
       "      <td>0</td>\n",
       "      <td>...</td>\n",
       "      <td>622012</td>\n",
       "      <td>229790</td>\n",
       "      <td>405298</td>\n",
       "      <td>347188</td>\n",
       "      <td>286954</td>\n",
       "      <td>311560</td>\n",
       "      <td>433954</td>\n",
       "      <td>1218</td>\n",
       "      <td>0</td>\n",
       "      <td>0</td>\n",
       "    </tr>\n",
       "  </tbody>\n",
       "</table>\n",
       "<p>5 rows × 171 columns</p>\n",
       "</div>\n",
       "    <div class=\"colab-df-buttons\">\n",
       "\n",
       "  <div class=\"colab-df-container\">\n",
       "    <button class=\"colab-df-convert\" onclick=\"convertToInteractive('df-4f59d8e5-9b2b-47f9-b1a5-29335749332b')\"\n",
       "            title=\"Convert this dataframe to an interactive table.\"\n",
       "            style=\"display:none;\">\n",
       "\n",
       "  <svg xmlns=\"http://www.w3.org/2000/svg\" height=\"24px\" viewBox=\"0 -960 960 960\">\n",
       "    <path d=\"M120-120v-720h720v720H120Zm60-500h600v-160H180v160Zm220 220h160v-160H400v160Zm0 220h160v-160H400v160ZM180-400h160v-160H180v160Zm440 0h160v-160H620v160ZM180-180h160v-160H180v160Zm440 0h160v-160H620v160Z\"/>\n",
       "  </svg>\n",
       "    </button>\n",
       "\n",
       "  <style>\n",
       "    .colab-df-container {\n",
       "      display:flex;\n",
       "      gap: 12px;\n",
       "    }\n",
       "\n",
       "    .colab-df-convert {\n",
       "      background-color: #E8F0FE;\n",
       "      border: none;\n",
       "      border-radius: 50%;\n",
       "      cursor: pointer;\n",
       "      display: none;\n",
       "      fill: #1967D2;\n",
       "      height: 32px;\n",
       "      padding: 0 0 0 0;\n",
       "      width: 32px;\n",
       "    }\n",
       "\n",
       "    .colab-df-convert:hover {\n",
       "      background-color: #E2EBFA;\n",
       "      box-shadow: 0px 1px 2px rgba(60, 64, 67, 0.3), 0px 1px 3px 1px rgba(60, 64, 67, 0.15);\n",
       "      fill: #174EA6;\n",
       "    }\n",
       "\n",
       "    .colab-df-buttons div {\n",
       "      margin-bottom: 4px;\n",
       "    }\n",
       "\n",
       "    [theme=dark] .colab-df-convert {\n",
       "      background-color: #3B4455;\n",
       "      fill: #D2E3FC;\n",
       "    }\n",
       "\n",
       "    [theme=dark] .colab-df-convert:hover {\n",
       "      background-color: #434B5C;\n",
       "      box-shadow: 0px 1px 3px 1px rgba(0, 0, 0, 0.15);\n",
       "      filter: drop-shadow(0px 1px 2px rgba(0, 0, 0, 0.3));\n",
       "      fill: #FFFFFF;\n",
       "    }\n",
       "  </style>\n",
       "\n",
       "    <script>\n",
       "      const buttonEl =\n",
       "        document.querySelector('#df-4f59d8e5-9b2b-47f9-b1a5-29335749332b button.colab-df-convert');\n",
       "      buttonEl.style.display =\n",
       "        google.colab.kernel.accessAllowed ? 'block' : 'none';\n",
       "\n",
       "      async function convertToInteractive(key) {\n",
       "        const element = document.querySelector('#df-4f59d8e5-9b2b-47f9-b1a5-29335749332b');\n",
       "        const dataTable =\n",
       "          await google.colab.kernel.invokeFunction('convertToInteractive',\n",
       "                                                    [key], {});\n",
       "        if (!dataTable) return;\n",
       "\n",
       "        const docLinkHtml = 'Like what you see? Visit the ' +\n",
       "          '<a target=\"_blank\" href=https://colab.research.google.com/notebooks/data_table.ipynb>data table notebook</a>'\n",
       "          + ' to learn more about interactive tables.';\n",
       "        element.innerHTML = '';\n",
       "        dataTable['output_type'] = 'display_data';\n",
       "        await google.colab.output.renderOutput(dataTable, element);\n",
       "        const docLink = document.createElement('div');\n",
       "        docLink.innerHTML = docLinkHtml;\n",
       "        element.appendChild(docLink);\n",
       "      }\n",
       "    </script>\n",
       "  </div>\n",
       "\n",
       "\n",
       "<div id=\"df-370ae1c5-d9c5-442f-a26b-bd8f81ff8521\">\n",
       "  <button class=\"colab-df-quickchart\" onclick=\"quickchart('df-370ae1c5-d9c5-442f-a26b-bd8f81ff8521')\"\n",
       "            title=\"Suggest charts\"\n",
       "            style=\"display:none;\">\n",
       "\n",
       "<svg xmlns=\"http://www.w3.org/2000/svg\" height=\"24px\"viewBox=\"0 0 24 24\"\n",
       "     width=\"24px\">\n",
       "    <g>\n",
       "        <path d=\"M19 3H5c-1.1 0-2 .9-2 2v14c0 1.1.9 2 2 2h14c1.1 0 2-.9 2-2V5c0-1.1-.9-2-2-2zM9 17H7v-7h2v7zm4 0h-2V7h2v10zm4 0h-2v-4h2v4z\"/>\n",
       "    </g>\n",
       "</svg>\n",
       "  </button>\n",
       "\n",
       "<style>\n",
       "  .colab-df-quickchart {\n",
       "      --bg-color: #E8F0FE;\n",
       "      --fill-color: #1967D2;\n",
       "      --hover-bg-color: #E2EBFA;\n",
       "      --hover-fill-color: #174EA6;\n",
       "      --disabled-fill-color: #AAA;\n",
       "      --disabled-bg-color: #DDD;\n",
       "  }\n",
       "\n",
       "  [theme=dark] .colab-df-quickchart {\n",
       "      --bg-color: #3B4455;\n",
       "      --fill-color: #D2E3FC;\n",
       "      --hover-bg-color: #434B5C;\n",
       "      --hover-fill-color: #FFFFFF;\n",
       "      --disabled-bg-color: #3B4455;\n",
       "      --disabled-fill-color: #666;\n",
       "  }\n",
       "\n",
       "  .colab-df-quickchart {\n",
       "    background-color: var(--bg-color);\n",
       "    border: none;\n",
       "    border-radius: 50%;\n",
       "    cursor: pointer;\n",
       "    display: none;\n",
       "    fill: var(--fill-color);\n",
       "    height: 32px;\n",
       "    padding: 0;\n",
       "    width: 32px;\n",
       "  }\n",
       "\n",
       "  .colab-df-quickchart:hover {\n",
       "    background-color: var(--hover-bg-color);\n",
       "    box-shadow: 0 1px 2px rgba(60, 64, 67, 0.3), 0 1px 3px 1px rgba(60, 64, 67, 0.15);\n",
       "    fill: var(--button-hover-fill-color);\n",
       "  }\n",
       "\n",
       "  .colab-df-quickchart-complete:disabled,\n",
       "  .colab-df-quickchart-complete:disabled:hover {\n",
       "    background-color: var(--disabled-bg-color);\n",
       "    fill: var(--disabled-fill-color);\n",
       "    box-shadow: none;\n",
       "  }\n",
       "\n",
       "  .colab-df-spinner {\n",
       "    border: 2px solid var(--fill-color);\n",
       "    border-color: transparent;\n",
       "    border-bottom-color: var(--fill-color);\n",
       "    animation:\n",
       "      spin 1s steps(1) infinite;\n",
       "  }\n",
       "\n",
       "  @keyframes spin {\n",
       "    0% {\n",
       "      border-color: transparent;\n",
       "      border-bottom-color: var(--fill-color);\n",
       "      border-left-color: var(--fill-color);\n",
       "    }\n",
       "    20% {\n",
       "      border-color: transparent;\n",
       "      border-left-color: var(--fill-color);\n",
       "      border-top-color: var(--fill-color);\n",
       "    }\n",
       "    30% {\n",
       "      border-color: transparent;\n",
       "      border-left-color: var(--fill-color);\n",
       "      border-top-color: var(--fill-color);\n",
       "      border-right-color: var(--fill-color);\n",
       "    }\n",
       "    40% {\n",
       "      border-color: transparent;\n",
       "      border-right-color: var(--fill-color);\n",
       "      border-top-color: var(--fill-color);\n",
       "    }\n",
       "    60% {\n",
       "      border-color: transparent;\n",
       "      border-right-color: var(--fill-color);\n",
       "    }\n",
       "    80% {\n",
       "      border-color: transparent;\n",
       "      border-right-color: var(--fill-color);\n",
       "      border-bottom-color: var(--fill-color);\n",
       "    }\n",
       "    90% {\n",
       "      border-color: transparent;\n",
       "      border-bottom-color: var(--fill-color);\n",
       "    }\n",
       "  }\n",
       "</style>\n",
       "\n",
       "  <script>\n",
       "    async function quickchart(key) {\n",
       "      const quickchartButtonEl =\n",
       "        document.querySelector('#' + key + ' button');\n",
       "      quickchartButtonEl.disabled = true;  // To prevent multiple clicks.\n",
       "      quickchartButtonEl.classList.add('colab-df-spinner');\n",
       "      try {\n",
       "        const charts = await google.colab.kernel.invokeFunction(\n",
       "            'suggestCharts', [key], {});\n",
       "      } catch (error) {\n",
       "        console.error('Error during call to suggestCharts:', error);\n",
       "      }\n",
       "      quickchartButtonEl.classList.remove('colab-df-spinner');\n",
       "      quickchartButtonEl.classList.add('colab-df-quickchart-complete');\n",
       "    }\n",
       "    (() => {\n",
       "      let quickchartButtonEl =\n",
       "        document.querySelector('#df-370ae1c5-d9c5-442f-a26b-bd8f81ff8521 button');\n",
       "      quickchartButtonEl.style.display =\n",
       "        google.colab.kernel.accessAllowed ? 'block' : 'none';\n",
       "    })();\n",
       "  </script>\n",
       "</div>\n",
       "\n",
       "    </div>\n",
       "  </div>\n"
      ],
      "text/plain": [
       "  class  aa_000 ab_000      ac_000 ad_000 ae_000 af_000 ag_000 ag_001 ag_002  \\\n",
       "0   neg   76698     na  2130706438    280      0      0      0      0      0   \n",
       "1   neg   33058     na           0     na      0      0      0      0      0   \n",
       "2   neg   41040     na         228    100      0      0      0      0      0   \n",
       "3   neg      12      0          70     66      0     10      0      0      0   \n",
       "4   neg   60874     na        1368    458      0      0      0      0      0   \n",
       "\n",
       "   ...   ee_002  ee_003  ee_004  ee_005  ee_006  ee_007  ee_008 ee_009 ef_000  \\\n",
       "0  ...  1240520  493384  721044  469792  339156  157956   73224      0      0   \n",
       "1  ...   421400  178064  293306  245416  133654   81140   97576   1500      0   \n",
       "2  ...   277378  159812  423992  409564  320746  158022   95128    514      0   \n",
       "3  ...      240      46      58      44      10       0       0      0      4   \n",
       "4  ...   622012  229790  405298  347188  286954  311560  433954   1218      0   \n",
       "\n",
       "  eg_000  \n",
       "0      0  \n",
       "1      0  \n",
       "2      0  \n",
       "3     32  \n",
       "4      0  \n",
       "\n",
       "[5 rows x 171 columns]"
      ]
     },
     "execution_count": 4,
     "metadata": {},
     "output_type": "execute_result"
    }
   ],
   "source": [
    "df.head()"
   ]
  },
  {
   "cell_type": "markdown",
   "metadata": {
    "id": "Sw5M5J2FJ5Mk"
   },
   "source": [
    "We check the class imbalance of this dataset."
   ]
  },
  {
   "cell_type": "code",
   "execution_count": null,
   "metadata": {
    "colab": {
     "base_uri": "https://localhost:8080/",
     "height": 178
    },
    "id": "Vi7zLS8he3ry",
    "outputId": "605ec846-6373-483a-e5dc-384133a53e46"
   },
   "outputs": [
    {
     "data": {
      "text/html": [
       "<div>\n",
       "<style scoped>\n",
       "    .dataframe tbody tr th:only-of-type {\n",
       "        vertical-align: middle;\n",
       "    }\n",
       "\n",
       "    .dataframe tbody tr th {\n",
       "        vertical-align: top;\n",
       "    }\n",
       "\n",
       "    .dataframe thead th {\n",
       "        text-align: right;\n",
       "    }\n",
       "</style>\n",
       "<table border=\"1\" class=\"dataframe\">\n",
       "  <thead>\n",
       "    <tr style=\"text-align: right;\">\n",
       "      <th></th>\n",
       "      <th>count</th>\n",
       "    </tr>\n",
       "    <tr>\n",
       "      <th>class</th>\n",
       "      <th></th>\n",
       "    </tr>\n",
       "  </thead>\n",
       "  <tbody>\n",
       "    <tr>\n",
       "      <th>neg</th>\n",
       "      <td>59000</td>\n",
       "    </tr>\n",
       "    <tr>\n",
       "      <th>pos</th>\n",
       "      <td>1000</td>\n",
       "    </tr>\n",
       "  </tbody>\n",
       "</table>\n",
       "</div><br><label><b>dtype:</b> int64</label>"
      ],
      "text/plain": [
       "class\n",
       "neg    59000\n",
       "pos     1000\n",
       "Name: count, dtype: int64"
      ]
     },
     "execution_count": 5,
     "metadata": {},
     "output_type": "execute_result"
    }
   ],
   "source": [
    "df[\"class\"].value_counts()"
   ]
  },
  {
   "cell_type": "markdown",
   "metadata": {
    "id": "4v3MuSViJ8_Q"
   },
   "source": [
    "As mentioned in the question, there is an imbalance of 59:1 for neg:pos."
   ]
  },
  {
   "cell_type": "markdown",
   "metadata": {
    "id": "_yt1uCmMKCqr"
   },
   "source": [
    "We also observe that there are many \"na\" values in the dataset. For ease of cleaning the data, we replace them with NumPy NaN values."
   ]
  },
  {
   "cell_type": "code",
   "execution_count": null,
   "metadata": {
    "id": "BP4qJ6_Se8ud"
   },
   "outputs": [],
   "source": [
    "df.replace(\"na\",np.nan,inplace=True)"
   ]
  },
  {
   "cell_type": "code",
   "execution_count": null,
   "metadata": {
    "colab": {
     "base_uri": "https://localhost:8080/",
     "height": 458
    },
    "id": "hFJq_WEjfHjQ",
    "outputId": "3c6b2f42-e921-4015-c974-e36fd85d39c9"
   },
   "outputs": [
    {
     "data": {
      "text/html": [
       "<div>\n",
       "<style scoped>\n",
       "    .dataframe tbody tr th:only-of-type {\n",
       "        vertical-align: middle;\n",
       "    }\n",
       "\n",
       "    .dataframe tbody tr th {\n",
       "        vertical-align: top;\n",
       "    }\n",
       "\n",
       "    .dataframe thead th {\n",
       "        text-align: right;\n",
       "    }\n",
       "</style>\n",
       "<table border=\"1\" class=\"dataframe\">\n",
       "  <thead>\n",
       "    <tr style=\"text-align: right;\">\n",
       "      <th></th>\n",
       "      <th>0</th>\n",
       "    </tr>\n",
       "  </thead>\n",
       "  <tbody>\n",
       "    <tr>\n",
       "      <th>class</th>\n",
       "      <td>0</td>\n",
       "    </tr>\n",
       "    <tr>\n",
       "      <th>aa_000</th>\n",
       "      <td>0</td>\n",
       "    </tr>\n",
       "    <tr>\n",
       "      <th>ab_000</th>\n",
       "      <td>46329</td>\n",
       "    </tr>\n",
       "    <tr>\n",
       "      <th>ac_000</th>\n",
       "      <td>3335</td>\n",
       "    </tr>\n",
       "    <tr>\n",
       "      <th>ad_000</th>\n",
       "      <td>14861</td>\n",
       "    </tr>\n",
       "    <tr>\n",
       "      <th>...</th>\n",
       "      <td>...</td>\n",
       "    </tr>\n",
       "    <tr>\n",
       "      <th>ee_007</th>\n",
       "      <td>671</td>\n",
       "    </tr>\n",
       "    <tr>\n",
       "      <th>ee_008</th>\n",
       "      <td>671</td>\n",
       "    </tr>\n",
       "    <tr>\n",
       "      <th>ee_009</th>\n",
       "      <td>671</td>\n",
       "    </tr>\n",
       "    <tr>\n",
       "      <th>ef_000</th>\n",
       "      <td>2724</td>\n",
       "    </tr>\n",
       "    <tr>\n",
       "      <th>eg_000</th>\n",
       "      <td>2723</td>\n",
       "    </tr>\n",
       "  </tbody>\n",
       "</table>\n",
       "<p>171 rows × 1 columns</p>\n",
       "</div><br><label><b>dtype:</b> int64</label>"
      ],
      "text/plain": [
       "class         0\n",
       "aa_000        0\n",
       "ab_000    46329\n",
       "ac_000     3335\n",
       "ad_000    14861\n",
       "          ...  \n",
       "ee_007      671\n",
       "ee_008      671\n",
       "ee_009      671\n",
       "ef_000     2724\n",
       "eg_000     2723\n",
       "Length: 171, dtype: int64"
      ]
     },
     "execution_count": 7,
     "metadata": {},
     "output_type": "execute_result"
    }
   ],
   "source": [
    "df.isna().sum()"
   ]
  },
  {
   "cell_type": "markdown",
   "metadata": {
    "id": "qIFACks2KKhp"
   },
   "source": [
    "We can see that many feature columns have NaN values. They will have to be cleaned. If the number of NaN values in  a column is more than 1000, we will discard that column."
   ]
  },
  {
   "cell_type": "code",
   "execution_count": null,
   "metadata": {
    "id": "-FW8on0TgCam"
   },
   "outputs": [],
   "source": [
    "for column in df.columns:\n",
    "    if df[column].isna().sum() > 1000:\n",
    "        df.drop(column, axis=1, inplace=True)"
   ]
  },
  {
   "cell_type": "code",
   "execution_count": null,
   "metadata": {
    "colab": {
     "base_uri": "https://localhost:8080/",
     "height": 458
    },
    "id": "EXg9oN2RveXB",
    "outputId": "5b50e224-a75c-49e6-edc9-7187b09d0e90"
   },
   "outputs": [
    {
     "data": {
      "text/html": [
       "<div>\n",
       "<style scoped>\n",
       "    .dataframe tbody tr th:only-of-type {\n",
       "        vertical-align: middle;\n",
       "    }\n",
       "\n",
       "    .dataframe tbody tr th {\n",
       "        vertical-align: top;\n",
       "    }\n",
       "\n",
       "    .dataframe thead th {\n",
       "        text-align: right;\n",
       "    }\n",
       "</style>\n",
       "<table border=\"1\" class=\"dataframe\">\n",
       "  <thead>\n",
       "    <tr style=\"text-align: right;\">\n",
       "      <th></th>\n",
       "      <th>0</th>\n",
       "    </tr>\n",
       "  </thead>\n",
       "  <tbody>\n",
       "    <tr>\n",
       "      <th>class</th>\n",
       "      <td>0</td>\n",
       "    </tr>\n",
       "    <tr>\n",
       "      <th>aa_000</th>\n",
       "      <td>0</td>\n",
       "    </tr>\n",
       "    <tr>\n",
       "      <th>ag_000</th>\n",
       "      <td>671</td>\n",
       "    </tr>\n",
       "    <tr>\n",
       "      <th>ag_001</th>\n",
       "      <td>671</td>\n",
       "    </tr>\n",
       "    <tr>\n",
       "      <th>ag_002</th>\n",
       "      <td>671</td>\n",
       "    </tr>\n",
       "    <tr>\n",
       "      <th>...</th>\n",
       "      <td>...</td>\n",
       "    </tr>\n",
       "    <tr>\n",
       "      <th>ee_005</th>\n",
       "      <td>671</td>\n",
       "    </tr>\n",
       "    <tr>\n",
       "      <th>ee_006</th>\n",
       "      <td>671</td>\n",
       "    </tr>\n",
       "    <tr>\n",
       "      <th>ee_007</th>\n",
       "      <td>671</td>\n",
       "    </tr>\n",
       "    <tr>\n",
       "      <th>ee_008</th>\n",
       "      <td>671</td>\n",
       "    </tr>\n",
       "    <tr>\n",
       "      <th>ee_009</th>\n",
       "      <td>671</td>\n",
       "    </tr>\n",
       "  </tbody>\n",
       "</table>\n",
       "<p>101 rows × 1 columns</p>\n",
       "</div><br><label><b>dtype:</b> int64</label>"
      ],
      "text/plain": [
       "class       0\n",
       "aa_000      0\n",
       "ag_000    671\n",
       "ag_001    671\n",
       "ag_002    671\n",
       "         ... \n",
       "ee_005    671\n",
       "ee_006    671\n",
       "ee_007    671\n",
       "ee_008    671\n",
       "ee_009    671\n",
       "Length: 101, dtype: int64"
      ]
     },
     "execution_count": 9,
     "metadata": {},
     "output_type": "execute_result"
    }
   ],
   "source": [
    "df.isna().sum()"
   ]
  },
  {
   "cell_type": "markdown",
   "metadata": {
    "id": "dS-1XaUPKUEX"
   },
   "source": [
    "There are still some datapoints with NaN values. We will drop all those datapoint that contain at least 1 NaN value."
   ]
  },
  {
   "cell_type": "code",
   "execution_count": null,
   "metadata": {
    "id": "CuSLk3tOgg9z"
   },
   "outputs": [],
   "source": [
    "df = df.dropna(axis=0, how=\"any\")"
   ]
  },
  {
   "cell_type": "code",
   "execution_count": null,
   "metadata": {
    "colab": {
     "base_uri": "https://localhost:8080/",
     "height": 458
    },
    "id": "IJhrKswzgseQ",
    "outputId": "1be34692-c845-4e9a-d07b-db71fda8e2fc"
   },
   "outputs": [
    {
     "data": {
      "text/html": [
       "<div>\n",
       "<style scoped>\n",
       "    .dataframe tbody tr th:only-of-type {\n",
       "        vertical-align: middle;\n",
       "    }\n",
       "\n",
       "    .dataframe tbody tr th {\n",
       "        vertical-align: top;\n",
       "    }\n",
       "\n",
       "    .dataframe thead th {\n",
       "        text-align: right;\n",
       "    }\n",
       "</style>\n",
       "<table border=\"1\" class=\"dataframe\">\n",
       "  <thead>\n",
       "    <tr style=\"text-align: right;\">\n",
       "      <th></th>\n",
       "      <th>0</th>\n",
       "    </tr>\n",
       "  </thead>\n",
       "  <tbody>\n",
       "    <tr>\n",
       "      <th>class</th>\n",
       "      <td>0</td>\n",
       "    </tr>\n",
       "    <tr>\n",
       "      <th>aa_000</th>\n",
       "      <td>0</td>\n",
       "    </tr>\n",
       "    <tr>\n",
       "      <th>ag_000</th>\n",
       "      <td>0</td>\n",
       "    </tr>\n",
       "    <tr>\n",
       "      <th>ag_001</th>\n",
       "      <td>0</td>\n",
       "    </tr>\n",
       "    <tr>\n",
       "      <th>ag_002</th>\n",
       "      <td>0</td>\n",
       "    </tr>\n",
       "    <tr>\n",
       "      <th>...</th>\n",
       "      <td>...</td>\n",
       "    </tr>\n",
       "    <tr>\n",
       "      <th>ee_005</th>\n",
       "      <td>0</td>\n",
       "    </tr>\n",
       "    <tr>\n",
       "      <th>ee_006</th>\n",
       "      <td>0</td>\n",
       "    </tr>\n",
       "    <tr>\n",
       "      <th>ee_007</th>\n",
       "      <td>0</td>\n",
       "    </tr>\n",
       "    <tr>\n",
       "      <th>ee_008</th>\n",
       "      <td>0</td>\n",
       "    </tr>\n",
       "    <tr>\n",
       "      <th>ee_009</th>\n",
       "      <td>0</td>\n",
       "    </tr>\n",
       "  </tbody>\n",
       "</table>\n",
       "<p>101 rows × 1 columns</p>\n",
       "</div><br><label><b>dtype:</b> int64</label>"
      ],
      "text/plain": [
       "class     0\n",
       "aa_000    0\n",
       "ag_000    0\n",
       "ag_001    0\n",
       "ag_002    0\n",
       "         ..\n",
       "ee_005    0\n",
       "ee_006    0\n",
       "ee_007    0\n",
       "ee_008    0\n",
       "ee_009    0\n",
       "Length: 101, dtype: int64"
      ]
     },
     "execution_count": 11,
     "metadata": {},
     "output_type": "execute_result"
    }
   ],
   "source": [
    "df.isna().sum()"
   ]
  },
  {
   "cell_type": "markdown",
   "metadata": {
    "id": "8V_kzKTxKadn"
   },
   "source": [
    "We have effectively cleaned the dataset and freed it from NaN values."
   ]
  },
  {
   "cell_type": "code",
   "execution_count": null,
   "metadata": {
    "colab": {
     "base_uri": "https://localhost:8080/"
    },
    "id": "M2uJjzv2gvTO",
    "outputId": "0b5160bc-b6a9-423b-be04-cba1bbbdbb41"
   },
   "outputs": [
    {
     "data": {
      "text/plain": [
       "58127"
      ]
     },
     "execution_count": 12,
     "metadata": {},
     "output_type": "execute_result"
    }
   ],
   "source": [
    "len(df)"
   ]
  },
  {
   "cell_type": "code",
   "execution_count": null,
   "metadata": {
    "colab": {
     "base_uri": "https://localhost:8080/",
     "height": 178
    },
    "id": "GHW-J_t2hRq6",
    "outputId": "3afe0139-8180-4b8f-a460-e6052fdb2f08"
   },
   "outputs": [
    {
     "data": {
      "text/html": [
       "<div>\n",
       "<style scoped>\n",
       "    .dataframe tbody tr th:only-of-type {\n",
       "        vertical-align: middle;\n",
       "    }\n",
       "\n",
       "    .dataframe tbody tr th {\n",
       "        vertical-align: top;\n",
       "    }\n",
       "\n",
       "    .dataframe thead th {\n",
       "        text-align: right;\n",
       "    }\n",
       "</style>\n",
       "<table border=\"1\" class=\"dataframe\">\n",
       "  <thead>\n",
       "    <tr style=\"text-align: right;\">\n",
       "      <th></th>\n",
       "      <th>count</th>\n",
       "    </tr>\n",
       "    <tr>\n",
       "      <th>class</th>\n",
       "      <th></th>\n",
       "    </tr>\n",
       "  </thead>\n",
       "  <tbody>\n",
       "    <tr>\n",
       "      <th>neg</th>\n",
       "      <td>57198</td>\n",
       "    </tr>\n",
       "    <tr>\n",
       "      <th>pos</th>\n",
       "      <td>929</td>\n",
       "    </tr>\n",
       "  </tbody>\n",
       "</table>\n",
       "</div><br><label><b>dtype:</b> int64</label>"
      ],
      "text/plain": [
       "class\n",
       "neg    57198\n",
       "pos      929\n",
       "Name: count, dtype: int64"
      ]
     },
     "execution_count": 13,
     "metadata": {},
     "output_type": "execute_result"
    }
   ],
   "source": [
    "df[\"class\"].value_counts()"
   ]
  },
  {
   "cell_type": "markdown",
   "metadata": {
    "id": "gH6HCpYxKd71"
   },
   "source": [
    "The number of datapoints has the same order of magnitude, as does the class imbalance."
   ]
  },
  {
   "cell_type": "markdown",
   "metadata": {
    "id": "_VD_r4b-g7GP"
   },
   "source": [
    "# Task 1"
   ]
  },
  {
   "cell_type": "markdown",
   "metadata": {
    "id": "S-UBYrOBKjQL"
   },
   "source": [
    "We divide the dataset into a training set and testing set."
   ]
  },
  {
   "cell_type": "code",
   "execution_count": null,
   "metadata": {
    "id": "iQWx4zTCe2_9"
   },
   "outputs": [],
   "source": [
    "from sklearn.model_selection import train_test_split"
   ]
  },
  {
   "cell_type": "code",
   "execution_count": null,
   "metadata": {
    "id": "JDWwEryMY4mv"
   },
   "outputs": [],
   "source": [
    "X_train, X_test, y_train, y_test = train_test_split(df.drop(\"class\", axis=1), df[\"class\"], test_size=0.3, random_state=5401)"
   ]
  },
  {
   "cell_type": "markdown",
   "metadata": {
    "id": "MY2b9HILLRYb"
   },
   "source": [
    "To ensure the support vector algorithm to efficiently learn from the data, we will perform standard scaling."
   ]
  },
  {
   "cell_type": "code",
   "execution_count": null,
   "metadata": {
    "id": "XGo5-JQfxAc9"
   },
   "outputs": [],
   "source": [
    "from sklearn.preprocessing import StandardScaler"
   ]
  },
  {
   "cell_type": "code",
   "execution_count": null,
   "metadata": {
    "id": "SDsuLR0fxAyh"
   },
   "outputs": [],
   "source": [
    "scaler = StandardScaler()\n",
    "\n",
    "X_train = scaler.fit_transform(X_train)\n",
    "X_test = scaler.transform(X_test)"
   ]
  },
  {
   "cell_type": "markdown",
   "metadata": {
    "id": "qMbR0stCLe6r"
   },
   "source": [
    "We construct the base models for the three classification algorithms - SVC, Logistic Regression, and Decision Trees. We will perform 5-fold cross-validation to find their best hyperparameters. They will be train on the imbalanced dataset."
   ]
  },
  {
   "cell_type": "code",
   "execution_count": null,
   "metadata": {
    "id": "Ch1xbcuShF0e"
   },
   "outputs": [],
   "source": [
    "from sklearn.svm import SVC\n",
    "from sklearn.linear_model import LogisticRegression\n",
    "from sklearn.tree import DecisionTreeClassifier"
   ]
  },
  {
   "cell_type": "code",
   "execution_count": null,
   "metadata": {
    "id": "qQLxGD28hGAM"
   },
   "outputs": [],
   "source": [
    "from sklearn.model_selection import GridSearchCV"
   ]
  },
  {
   "cell_type": "code",
   "execution_count": null,
   "metadata": {
    "id": "vf7vtX2ShLF9"
   },
   "outputs": [],
   "source": [
    "svc_params = {\"kernel\":[\"poly\",\"rbf\"],\n",
    "              \"gamma\": [\"scale\", \"auto\"],\n",
    "              \"degree\":[1, 2, 3]}"
   ]
  },
  {
   "cell_type": "code",
   "execution_count": null,
   "metadata": {
    "id": "DwOy-BBZiLo2"
   },
   "outputs": [],
   "source": [
    "logreg_params = {\"penalty\": [\"l1\", \"l2\"],\n",
    "                 \"C\": [0.01, 0.1, 1]}"
   ]
  },
  {
   "cell_type": "code",
   "execution_count": null,
   "metadata": {
    "id": "BA4FGyh1iYgx"
   },
   "outputs": [],
   "source": [
    "tree_params = {\"max_depth\": [5, 10, None],\n",
    "               \"min_samples_leaf\": [1, 2, 4]}"
   ]
  },
  {
   "cell_type": "markdown",
   "metadata": {
    "id": "wNIzhPBHLsvP"
   },
   "source": [
    "We run a grid search to find the best hyperparameters. This takes a while to run owing to the size of the dataset."
   ]
  },
  {
   "cell_type": "code",
   "execution_count": null,
   "metadata": {
    "colab": {
     "base_uri": "https://localhost:8080/"
    },
    "id": "ypFplh_iijJq",
    "outputId": "c0767434-b80f-44b1-fde7-fe5eadca1f2d"
   },
   "outputs": [
    {
     "name": "stdout",
     "output_type": "stream",
     "text": [
      "Fitting SVC\n",
      "Fitting 5 folds for each of 12 candidates, totalling 60 fits\n",
      "[CV] END .................degree=1, gamma=scale, kernel=poly; total time=   3.6s\n",
      "[CV] END .................degree=1, gamma=scale, kernel=poly; total time=   3.7s\n",
      "[CV] END .................degree=1, gamma=scale, kernel=poly; total time=   3.5s\n",
      "[CV] END .................degree=1, gamma=scale, kernel=poly; total time=   4.3s\n",
      "[CV] END .................degree=1, gamma=scale, kernel=poly; total time=   3.5s\n",
      "[CV] END ..................degree=1, gamma=scale, kernel=rbf; total time=   7.7s\n",
      "[CV] END ..................degree=1, gamma=scale, kernel=rbf; total time=   7.3s\n",
      "[CV] END ..................degree=1, gamma=scale, kernel=rbf; total time=   7.7s\n",
      "[CV] END ..................degree=1, gamma=scale, kernel=rbf; total time=   6.8s\n",
      "[CV] END ..................degree=1, gamma=scale, kernel=rbf; total time=   7.9s\n",
      "[CV] END ..................degree=1, gamma=auto, kernel=poly; total time=   3.3s\n",
      "[CV] END ..................degree=1, gamma=auto, kernel=poly; total time=   3.7s\n",
      "[CV] END ..................degree=1, gamma=auto, kernel=poly; total time=   5.4s\n",
      "[CV] END ..................degree=1, gamma=auto, kernel=poly; total time=   4.6s\n",
      "[CV] END ..................degree=1, gamma=auto, kernel=poly; total time=   4.9s\n",
      "[CV] END ...................degree=1, gamma=auto, kernel=rbf; total time=   9.6s\n",
      "[CV] END ...................degree=1, gamma=auto, kernel=rbf; total time=   9.1s\n",
      "[CV] END ...................degree=1, gamma=auto, kernel=rbf; total time=   7.5s\n",
      "[CV] END ...................degree=1, gamma=auto, kernel=rbf; total time=   8.8s\n",
      "[CV] END ...................degree=1, gamma=auto, kernel=rbf; total time=   6.8s\n",
      "[CV] END .................degree=2, gamma=scale, kernel=poly; total time=   6.0s\n",
      "[CV] END .................degree=2, gamma=scale, kernel=poly; total time=   5.1s\n",
      "[CV] END .................degree=2, gamma=scale, kernel=poly; total time=   6.7s\n",
      "[CV] END .................degree=2, gamma=scale, kernel=poly; total time=   6.5s\n",
      "[CV] END .................degree=2, gamma=scale, kernel=poly; total time=   5.4s\n",
      "[CV] END ..................degree=2, gamma=scale, kernel=rbf; total time=   7.7s\n",
      "[CV] END ..................degree=2, gamma=scale, kernel=rbf; total time=   9.1s\n",
      "[CV] END ..................degree=2, gamma=scale, kernel=rbf; total time=   6.9s\n",
      "[CV] END ..................degree=2, gamma=scale, kernel=rbf; total time=   7.9s\n",
      "[CV] END ..................degree=2, gamma=scale, kernel=rbf; total time=   6.9s\n",
      "[CV] END ..................degree=2, gamma=auto, kernel=poly; total time=   6.0s\n",
      "[CV] END ..................degree=2, gamma=auto, kernel=poly; total time=   5.6s\n",
      "[CV] END ..................degree=2, gamma=auto, kernel=poly; total time=   5.0s\n",
      "[CV] END ..................degree=2, gamma=auto, kernel=poly; total time=   7.1s\n",
      "[CV] END ..................degree=2, gamma=auto, kernel=poly; total time=   5.5s\n",
      "[CV] END ...................degree=2, gamma=auto, kernel=rbf; total time=   7.6s\n",
      "[CV] END ...................degree=2, gamma=auto, kernel=rbf; total time=   7.3s\n",
      "[CV] END ...................degree=2, gamma=auto, kernel=rbf; total time=   7.7s\n",
      "[CV] END ...................degree=2, gamma=auto, kernel=rbf; total time=   7.9s\n",
      "[CV] END ...................degree=2, gamma=auto, kernel=rbf; total time=   8.0s\n",
      "[CV] END .................degree=3, gamma=scale, kernel=poly; total time=  10.2s\n",
      "[CV] END .................degree=3, gamma=scale, kernel=poly; total time=  11.1s\n",
      "[CV] END .................degree=3, gamma=scale, kernel=poly; total time=  11.1s\n",
      "[CV] END .................degree=3, gamma=scale, kernel=poly; total time=   9.9s\n",
      "[CV] END .................degree=3, gamma=scale, kernel=poly; total time=  10.3s\n",
      "[CV] END ..................degree=3, gamma=scale, kernel=rbf; total time=   7.3s\n",
      "[CV] END ..................degree=3, gamma=scale, kernel=rbf; total time=   8.1s\n",
      "[CV] END ..................degree=3, gamma=scale, kernel=rbf; total time=   7.4s\n",
      "[CV] END ..................degree=3, gamma=scale, kernel=rbf; total time=   8.3s\n",
      "[CV] END ..................degree=3, gamma=scale, kernel=rbf; total time=   6.6s\n",
      "[CV] END ..................degree=3, gamma=auto, kernel=poly; total time=   9.0s\n",
      "[CV] END ..................degree=3, gamma=auto, kernel=poly; total time=  10.9s\n",
      "[CV] END ..................degree=3, gamma=auto, kernel=poly; total time=  10.1s\n",
      "[CV] END ..................degree=3, gamma=auto, kernel=poly; total time=  10.3s\n",
      "[CV] END ..................degree=3, gamma=auto, kernel=poly; total time=  10.0s\n",
      "[CV] END ...................degree=3, gamma=auto, kernel=rbf; total time=   7.5s\n",
      "[CV] END ...................degree=3, gamma=auto, kernel=rbf; total time=   7.4s\n",
      "[CV] END ...................degree=3, gamma=auto, kernel=rbf; total time=   7.8s\n",
      "[CV] END ...................degree=3, gamma=auto, kernel=rbf; total time=   7.5s\n",
      "[CV] END ...................degree=3, gamma=auto, kernel=rbf; total time=   8.0s\n",
      "\n",
      "Fitting Logistic Regression\n",
      "Fitting 5 folds for each of 6 candidates, totalling 30 fits\n",
      "[CV] END .................................C=0.01, penalty=l1; total time=   1.5s\n",
      "[CV] END .................................C=0.01, penalty=l1; total time=   2.0s\n",
      "[CV] END .................................C=0.01, penalty=l1; total time=   2.0s\n",
      "[CV] END .................................C=0.01, penalty=l1; total time=   1.4s\n",
      "[CV] END .................................C=0.01, penalty=l1; total time=   1.9s\n",
      "[CV] END .................................C=0.01, penalty=l2; total time=   1.6s\n",
      "[CV] END .................................C=0.01, penalty=l2; total time=   1.7s\n",
      "[CV] END .................................C=0.01, penalty=l2; total time=   1.6s\n",
      "[CV] END .................................C=0.01, penalty=l2; total time=   1.7s\n",
      "[CV] END .................................C=0.01, penalty=l2; total time=   2.0s\n",
      "[CV] END ..................................C=0.1, penalty=l1; total time=   7.3s\n",
      "[CV] END ..................................C=0.1, penalty=l1; total time=   5.4s\n",
      "[CV] END ..................................C=0.1, penalty=l1; total time=   6.5s\n",
      "[CV] END ..................................C=0.1, penalty=l1; total time=   6.0s\n",
      "[CV] END ..................................C=0.1, penalty=l1; total time=  10.8s\n",
      "[CV] END ..................................C=0.1, penalty=l2; total time=   3.1s\n",
      "[CV] END ..................................C=0.1, penalty=l2; total time=   3.6s\n",
      "[CV] END ..................................C=0.1, penalty=l2; total time=   3.4s\n",
      "[CV] END ..................................C=0.1, penalty=l2; total time=   2.7s\n",
      "[CV] END ..................................C=0.1, penalty=l2; total time=   3.0s\n",
      "[CV] END ....................................C=1, penalty=l1; total time=  40.2s\n",
      "[CV] END ....................................C=1, penalty=l1; total time=  25.7s\n",
      "[CV] END ....................................C=1, penalty=l1; total time=  31.8s\n",
      "[CV] END ....................................C=1, penalty=l1; total time=  32.2s\n",
      "[CV] END ....................................C=1, penalty=l1; total time=  37.3s\n",
      "[CV] END ....................................C=1, penalty=l2; total time=   6.6s\n",
      "[CV] END ....................................C=1, penalty=l2; total time=   5.9s\n",
      "[CV] END ....................................C=1, penalty=l2; total time=   5.9s\n",
      "[CV] END ....................................C=1, penalty=l2; total time=   5.4s\n",
      "[CV] END ....................................C=1, penalty=l2; total time=   6.7s\n",
      "\n",
      "Fitting Decision Tree\n",
      "Fitting 5 folds for each of 9 candidates, totalling 45 fits\n",
      "[CV] END ....................max_depth=5, min_samples_leaf=1; total time=   2.2s\n",
      "[CV] END ....................max_depth=5, min_samples_leaf=1; total time=   2.1s\n",
      "[CV] END ....................max_depth=5, min_samples_leaf=1; total time=   2.1s\n",
      "[CV] END ....................max_depth=5, min_samples_leaf=1; total time=   2.1s\n",
      "[CV] END ....................max_depth=5, min_samples_leaf=1; total time=   2.8s\n",
      "[CV] END ....................max_depth=5, min_samples_leaf=2; total time=   2.3s\n",
      "[CV] END ....................max_depth=5, min_samples_leaf=2; total time=   2.1s\n",
      "[CV] END ....................max_depth=5, min_samples_leaf=2; total time=   2.1s\n",
      "[CV] END ....................max_depth=5, min_samples_leaf=2; total time=   2.1s\n",
      "[CV] END ....................max_depth=5, min_samples_leaf=2; total time=   2.1s\n",
      "[CV] END ....................max_depth=5, min_samples_leaf=4; total time=   2.8s\n",
      "[CV] END ....................max_depth=5, min_samples_leaf=4; total time=   2.4s\n",
      "[CV] END ....................max_depth=5, min_samples_leaf=4; total time=   2.1s\n",
      "[CV] END ....................max_depth=5, min_samples_leaf=4; total time=   2.1s\n",
      "[CV] END ....................max_depth=5, min_samples_leaf=4; total time=   2.1s\n",
      "[CV] END ...................max_depth=10, min_samples_leaf=1; total time=   4.6s\n",
      "[CV] END ...................max_depth=10, min_samples_leaf=1; total time=   4.3s\n",
      "[CV] END ...................max_depth=10, min_samples_leaf=1; total time=   4.0s\n",
      "[CV] END ...................max_depth=10, min_samples_leaf=1; total time=   4.4s\n",
      "[CV] END ...................max_depth=10, min_samples_leaf=1; total time=   4.6s\n",
      "[CV] END ...................max_depth=10, min_samples_leaf=2; total time=   4.1s\n",
      "[CV] END ...................max_depth=10, min_samples_leaf=2; total time=   4.1s\n",
      "[CV] END ...................max_depth=10, min_samples_leaf=2; total time=   4.8s\n",
      "[CV] END ...................max_depth=10, min_samples_leaf=2; total time=   3.9s\n",
      "[CV] END ...................max_depth=10, min_samples_leaf=2; total time=   4.0s\n",
      "[CV] END ...................max_depth=10, min_samples_leaf=4; total time=   5.8s\n",
      "[CV] END ...................max_depth=10, min_samples_leaf=4; total time=   4.5s\n",
      "[CV] END ...................max_depth=10, min_samples_leaf=4; total time=   4.0s\n",
      "[CV] END ...................max_depth=10, min_samples_leaf=4; total time=   4.5s\n",
      "[CV] END ...................max_depth=10, min_samples_leaf=4; total time=   4.4s\n",
      "[CV] END .................max_depth=None, min_samples_leaf=1; total time=   8.3s\n",
      "[CV] END .................max_depth=None, min_samples_leaf=1; total time=   8.6s\n",
      "[CV] END .................max_depth=None, min_samples_leaf=1; total time=   8.8s\n",
      "[CV] END .................max_depth=None, min_samples_leaf=1; total time=   8.1s\n",
      "[CV] END .................max_depth=None, min_samples_leaf=1; total time=  10.9s\n",
      "[CV] END .................max_depth=None, min_samples_leaf=2; total time=   9.0s\n",
      "[CV] END .................max_depth=None, min_samples_leaf=2; total time=   7.6s\n",
      "[CV] END .................max_depth=None, min_samples_leaf=2; total time=   8.9s\n",
      "[CV] END .................max_depth=None, min_samples_leaf=2; total time=   9.2s\n",
      "[CV] END .................max_depth=None, min_samples_leaf=2; total time=  10.2s\n",
      "[CV] END .................max_depth=None, min_samples_leaf=4; total time=   9.1s\n",
      "[CV] END .................max_depth=None, min_samples_leaf=4; total time=   8.3s\n",
      "[CV] END .................max_depth=None, min_samples_leaf=4; total time=   8.0s\n",
      "[CV] END .................max_depth=None, min_samples_leaf=4; total time=   9.1s\n",
      "[CV] END .................max_depth=None, min_samples_leaf=4; total time=  10.9s\n"
     ]
    }
   ],
   "source": [
    "svc_grid = GridSearchCV(SVC(), svc_params, cv=5, scoring=\"f1_macro\", verbose=2)\n",
    "logreg_grid = GridSearchCV(LogisticRegression(solver=\"liblinear\"), logreg_params, cv=5, scoring=\"f1_macro\", verbose=2)\n",
    "tree_grid = GridSearchCV(DecisionTreeClassifier(), tree_params, cv=5, scoring=\"f1_macro\", verbose=2)\n",
    "\n",
    "print(\"Fitting SVC\")\n",
    "svc_grid.fit(X_train, y_train)\n",
    "print(\"\\nFitting Logistic Regression\")\n",
    "logreg_grid.fit(X_train, y_train)\n",
    "print(\"\\nFitting Decision Tree\")\n",
    "tree_grid.fit(X_train, y_train)\n",
    "\n",
    "baseline_svc = svc_grid.best_estimator_\n",
    "baseline_logreg = logreg_grid.best_estimator_\n",
    "baseline_tree = tree_grid.best_estimator_"
   ]
  },
  {
   "cell_type": "markdown",
   "metadata": {
    "id": "2qjGFPImL3eE"
   },
   "source": [
    "We obtain the optimized hyperparameters and compute the baseline performance on the imbalanced dataset using macro-averaged F1-score as the metric."
   ]
  },
  {
   "cell_type": "code",
   "execution_count": null,
   "metadata": {
    "id": "4QturjG-nSxc"
   },
   "outputs": [],
   "source": [
    "baseline_svc_params = svc_grid.best_params_\n",
    "baseline_logreg_params = logreg_grid.best_params_\n",
    "baseline_tree_params = tree_grid.best_params_"
   ]
  },
  {
   "cell_type": "code",
   "execution_count": null,
   "metadata": {
    "id": "WcTQpcNJk_vd"
   },
   "outputs": [],
   "source": [
    "from sklearn.metrics import f1_score"
   ]
  },
  {
   "cell_type": "code",
   "execution_count": null,
   "metadata": {
    "colab": {
     "base_uri": "https://localhost:8080/"
    },
    "id": "Q9VA0WzKiwLa",
    "outputId": "54673ff5-b021-414b-d416-ffa0fc5a6da7"
   },
   "outputs": [
    {
     "name": "stdout",
     "output_type": "stream",
     "text": [
      "SVC train score: 0.9487467078627851\n",
      "SVC test score: 0.8667468233242389\n",
      "Logistic Regression train score: 0.8684941626785421\n",
      "Logistic Regression test score: 0.8408095081608062\n",
      "Decision Tree train score: 0.9529418840132171\n",
      "Decision Tree test score: 0.8495030592427718\n"
     ]
    }
   ],
   "source": [
    "baseline_svc.fit(X_train, y_train)\n",
    "baseline_logreg.fit(X_train, y_train)\n",
    "baseline_tree.fit(X_train, y_train)\n",
    "\n",
    "svc_train_score = f1_score(y_train, baseline_svc.predict(X_train), average=\"macro\")\n",
    "logreg_train_score = f1_score(y_train, baseline_logreg.predict(X_train), average=\"macro\")\n",
    "tree_train_score = f1_score(y_train, baseline_tree.predict(X_train), average=\"macro\")\n",
    "\n",
    "svc_test_score = f1_score(y_test, baseline_svc.predict(X_test), average=\"macro\")\n",
    "logreg_test_score = f1_score(y_test, baseline_logreg.predict(X_test), average=\"macro\")\n",
    "tree_test_score = f1_score(y_test, baseline_tree.predict(X_test), average=\"macro\")\n",
    "\n",
    "print(f\"SVC train score: {svc_train_score}\")\n",
    "print(f\"SVC test score: {svc_test_score}\")\n",
    "print(f\"Logistic Regression train score: {logreg_train_score}\")\n",
    "print(f\"Logistic Regression test score: {logreg_test_score}\")\n",
    "print(f\"Decision Tree train score: {tree_train_score}\")\n",
    "print(f\"Decision Tree test score: {tree_test_score}\")"
   ]
  },
  {
   "cell_type": "markdown",
   "metadata": {
    "id": "njESoCPrL97o"
   },
   "source": [
    "The classifiers actually perform decently on the imbalanced data. We will now use some sampling strategies to overcome the imbalance and obtain better performance."
   ]
  },
  {
   "cell_type": "markdown",
   "metadata": {
    "id": "58l9-3DWmm-Y"
   },
   "source": [
    "# Task 2"
   ]
  },
  {
   "cell_type": "markdown",
   "metadata": {
    "id": "EfCyb8vXMJMv"
   },
   "source": [
    "To keep track of the class balance, we will use the `Counter` class from the `collections` library."
   ]
  },
  {
   "cell_type": "code",
   "execution_count": null,
   "metadata": {
    "id": "0MGxPJl9otli"
   },
   "outputs": [],
   "source": [
    "from collections import Counter"
   ]
  },
  {
   "cell_type": "code",
   "execution_count": null,
   "metadata": {
    "colab": {
     "base_uri": "https://localhost:8080/"
    },
    "id": "APj9YE--o2ml",
    "outputId": "46e9300d-126e-4fc0-eb52-1b428cf7fa74"
   },
   "outputs": [
    {
     "name": "stdout",
     "output_type": "stream",
     "text": [
      "Counter({'neg': 40036, 'pos': 652})\n"
     ]
    }
   ],
   "source": [
    "print(Counter(y_train))"
   ]
  },
  {
   "cell_type": "markdown",
   "metadata": {
    "id": "oxmgzjznmpU8"
   },
   "source": [
    "**Undersampling the majority class**"
   ]
  },
  {
   "cell_type": "markdown",
   "metadata": {
    "id": "MfEkQwgCMQ8H"
   },
   "source": [
    "We will first undersample the majority class ('neg') to overcome the class imbalance. We can do so using the `RandomUnderSampler` class of the `imblearn` library."
   ]
  },
  {
   "cell_type": "code",
   "execution_count": null,
   "metadata": {
    "id": "cyxd-kmpmoFB"
   },
   "outputs": [],
   "source": [
    "from imblearn.under_sampling import RandomUnderSampler"
   ]
  },
  {
   "cell_type": "code",
   "execution_count": null,
   "metadata": {
    "colab": {
     "base_uri": "https://localhost:8080/"
    },
    "id": "O7iSPkdmmv4z",
    "outputId": "b6c4bc09-86ff-4d5b-fab1-76ff4aa4614e"
   },
   "outputs": [
    {
     "name": "stdout",
     "output_type": "stream",
     "text": [
      "Counter({'neg': 652, 'pos': 652})\n"
     ]
    }
   ],
   "source": [
    "undersampler = RandomUnderSampler(random_state=5401, sampling_strategy=\"majority\")\n",
    "X_train_under, y_train_under = undersampler.fit_resample(X_train, y_train)\n",
    "print(Counter(y_train_under))"
   ]
  },
  {
   "cell_type": "markdown",
   "metadata": {
    "id": "FeQTPfFbMchb"
   },
   "source": [
    "The number of datapoints in the training set has been reduced due to the undersampling. We fit the 3 hyperparameter-optimized classification algorithms with this training data."
   ]
  },
  {
   "cell_type": "code",
   "execution_count": null,
   "metadata": {
    "id": "mGl1K2uXnL-P"
   },
   "outputs": [],
   "source": [
    "svc_undersampling = SVC(**baseline_svc_params)\n",
    "logreg_undersampling = LogisticRegression(**baseline_logreg_params, solver=\"liblinear\")\n",
    "tree_undersampling = DecisionTreeClassifier(**baseline_tree_params)"
   ]
  },
  {
   "cell_type": "code",
   "execution_count": null,
   "metadata": {
    "colab": {
     "base_uri": "https://localhost:8080/"
    },
    "id": "b9mdEeO9nlRw",
    "outputId": "e5110780-85db-4d66-9a56-e6c99d4eca8b"
   },
   "outputs": [
    {
     "name": "stdout",
     "output_type": "stream",
     "text": [
      "Undersampling SVC train score: 0.9646872932183873\n",
      "Undersampling SVC test score: 0.7290021995766903\n",
      "Undersampling Logistic Regression train score: 0.9654849314198293\n",
      "Undersampling Logistic Regression test score: 0.6942524457760246\n",
      "Undersampling Decision Tree train score: 0.9930978307215931\n",
      "Undersampling Decision Tree test score: 0.6414801858050804\n"
     ]
    }
   ],
   "source": [
    "svc_undersampling.fit(X_train_under, y_train_under)\n",
    "logreg_undersampling.fit(X_train_under, y_train_under)\n",
    "tree_undersampling.fit(X_train_under, y_train_under)\n",
    "\n",
    "svc_undersampling_train_score = f1_score(y_train_under, svc_undersampling.predict(X_train_under), average=\"macro\")\n",
    "logreg_undersampling_train_score = f1_score(y_train_under, logreg_undersampling.predict(X_train_under), average=\"macro\")\n",
    "tree_undersampling_train_score = f1_score(y_train_under, tree_undersampling.predict(X_train_under), average=\"macro\")\n",
    "\n",
    "svc_undersampling_test_score = f1_score(y_test, svc_undersampling.predict(X_test), average=\"macro\")\n",
    "logreg_undersampling_test_score = f1_score(y_test, logreg_undersampling.predict(X_test), average=\"macro\")\n",
    "tree_undersampling_test_score = f1_score(y_test, tree_undersampling.predict(X_test), average=\"macro\")\n",
    "\n",
    "print(f\"Undersampling SVC train score: {svc_undersampling_train_score}\")\n",
    "print(f\"Undersampling SVC test score: {svc_undersampling_test_score}\")\n",
    "print(f\"Undersampling Logistic Regression train score: {logreg_undersampling_train_score}\")\n",
    "print(f\"Undersampling Logistic Regression test score: {logreg_undersampling_test_score}\")\n",
    "print(f\"Undersampling Decision Tree train score: {tree_undersampling_train_score}\")\n",
    "print(f\"Undersampling Decision Tree test score: {tree_undersampling_test_score}\")"
   ]
  },
  {
   "cell_type": "markdown",
   "metadata": {
    "id": "ZXx-ZiWlMyro"
   },
   "source": [
    "We will compare all the sampling strategies at the end."
   ]
  },
  {
   "cell_type": "markdown",
   "metadata": {
    "id": "w2Fc7xssoKqO"
   },
   "source": [
    "**Oversampling the minority class**"
   ]
  },
  {
   "cell_type": "markdown",
   "metadata": {
    "id": "j_tQRIKnMrBS"
   },
   "source": [
    "We then oversample the minority class ('pos') to overcome the class imbalance. We can do so using the `RandomOverSampler` class of the `imblearn` library."
   ]
  },
  {
   "cell_type": "code",
   "execution_count": null,
   "metadata": {
    "id": "rT577wyooM0x"
   },
   "outputs": [],
   "source": [
    "from imblearn.over_sampling import RandomOverSampler"
   ]
  },
  {
   "cell_type": "code",
   "execution_count": null,
   "metadata": {
    "colab": {
     "base_uri": "https://localhost:8080/"
    },
    "id": "WznooHPloQBT",
    "outputId": "47030b85-9379-4fa5-d412-0e8190446271"
   },
   "outputs": [
    {
     "name": "stdout",
     "output_type": "stream",
     "text": [
      "Counter({'neg': 40036, 'pos': 40036})\n"
     ]
    }
   ],
   "source": [
    "oversampler = RandomOverSampler(random_state=5401, sampling_strategy=\"minority\")\n",
    "X_train_over, y_train_over = oversampler.fit_resample(X_train, y_train)\n",
    "print(Counter(y_train_over))"
   ]
  },
  {
   "cell_type": "markdown",
   "metadata": {
    "id": "y9gdhhBOM23k"
   },
   "source": [
    "The number of datapoints in the training set has been increased due to the oversampling. We fit the 3 hyperparameter-optimized classification algorithms with this training data."
   ]
  },
  {
   "cell_type": "code",
   "execution_count": null,
   "metadata": {
    "id": "le2uF6cFo5vK"
   },
   "outputs": [],
   "source": [
    "svc_oversampling = SVC(**baseline_svc_params)\n",
    "logreg_oversampling = LogisticRegression(**baseline_logreg_params, solver=\"liblinear\")\n",
    "tree_oversampling = DecisionTreeClassifier(**baseline_tree_params)"
   ]
  },
  {
   "cell_type": "code",
   "execution_count": null,
   "metadata": {
    "colab": {
     "base_uri": "https://localhost:8080/"
    },
    "id": "_v58Jyc7pBh-",
    "outputId": "1dc17361-3955-4b0a-f958-07d4135fead2"
   },
   "outputs": [
    {
     "name": "stdout",
     "output_type": "stream",
     "text": [
      "Oversampling SVC train score: 0.9797386348597599\n",
      "Oversampling SVC test score: 0.8302525916192145\n",
      "Oversampling Logistic Regression train score: 0.962001942189947\n",
      "Oversampling Logistic Regression test score: 0.7669832029733352\n",
      "Oversampling Decision Tree train score: 0.9843755155880201\n",
      "Oversampling Decision Tree test score: 0.7434434443515703\n"
     ]
    }
   ],
   "source": [
    "svc_oversampling.fit(X_train_over, y_train_over)\n",
    "logreg_oversampling.fit(X_train_over, y_train_over)\n",
    "tree_oversampling.fit(X_train_over, y_train_over)\n",
    "\n",
    "svc_oversampling_train_score = f1_score(y_train_over, svc_oversampling.predict(X_train_over), average=\"macro\")\n",
    "logreg_oversampling_train_score = f1_score(y_train_over, logreg_oversampling.predict(X_train_over), average=\"macro\")\n",
    "tree_oversampling_train_score = f1_score(y_train_over, tree_oversampling.predict(X_train_over), average=\"macro\")\n",
    "\n",
    "svc_oversampling_test_score = f1_score(y_test, svc_oversampling.predict(X_test), average=\"macro\")\n",
    "logreg_oversampling_test_score = f1_score(y_test, logreg_oversampling.predict(X_test), average=\"macro\")\n",
    "tree_oversampling_test_score = f1_score(y_test, tree_oversampling.predict(X_test), average=\"macro\")\n",
    "\n",
    "print(f\"Oversampling SVC train score: {svc_oversampling_train_score}\")\n",
    "print(f\"Oversampling SVC test score: {svc_oversampling_test_score}\")\n",
    "print(f\"Oversampling Logistic Regression train score: {logreg_oversampling_train_score}\")\n",
    "print(f\"Oversampling Logistic Regression test score: {logreg_oversampling_test_score}\")\n",
    "print(f\"Oversampling Decision Tree train score: {tree_oversampling_train_score}\")\n",
    "print(f\"Oversampling Decision Tree test score: {tree_oversampling_test_score}\")"
   ]
  },
  {
   "cell_type": "markdown",
   "metadata": {
    "id": "eKAgwKfppSlv"
   },
   "source": [
    "**Using `class_weight`**"
   ]
  },
  {
   "cell_type": "markdown",
   "metadata": {
    "id": "-n0N1-4_NFsD"
   },
   "source": [
    "We then use the `class_weight` parameter of the 3 algorithms to deal with the class imbalance. Setting it to '`balanced`' allows the algorithms to better classify the minority class."
   ]
  },
  {
   "cell_type": "code",
   "execution_count": null,
   "metadata": {
    "id": "0dY5q5TXpXjD"
   },
   "outputs": [],
   "source": [
    "svc_class_weight = SVC(**baseline_svc_params, class_weight=\"balanced\")\n",
    "logreg_class_weight = LogisticRegression(**baseline_logreg_params, solver=\"liblinear\", class_weight=\"balanced\")\n",
    "tree_class_weight = DecisionTreeClassifier(**baseline_tree_params, class_weight=\"balanced\")"
   ]
  },
  {
   "cell_type": "code",
   "execution_count": null,
   "metadata": {
    "colab": {
     "base_uri": "https://localhost:8080/"
    },
    "id": "NjIbZaYzpsqQ",
    "outputId": "f0a89da0-0c64-42a4-b3b5-bfe24410b6b1"
   },
   "outputs": [
    {
     "name": "stdout",
     "output_type": "stream",
     "text": [
      "Class Weight SVC train score: 0.9039305766072113\n",
      "Class Weight SVC test score: 0.829674868674819\n",
      "Class Weight Logistic Regression train score: 0.7730223776731191\n",
      "Class Weight Logistic Regression test score: 0.7682367938494301\n",
      "Class Weight Decision Tree train score: 0.7905370485118826\n",
      "Class Weight Decision Tree test score: 0.7463994007877692\n"
     ]
    }
   ],
   "source": [
    "svc_class_weight.fit(X_train, y_train)\n",
    "logreg_class_weight.fit(X_train, y_train)\n",
    "tree_class_weight.fit(X_train, y_train)\n",
    "\n",
    "svc_class_train_score = f1_score(y_train, svc_class_weight.predict(X_train), average=\"macro\")\n",
    "logreg_class_train_score = f1_score(y_train, logreg_class_weight.predict(X_train), average=\"macro\")\n",
    "tree_class_train_score = f1_score(y_train, tree_class_weight.predict(X_train), average=\"macro\")\n",
    "\n",
    "svc_class_test_score = f1_score(y_test, svc_class_weight.predict(X_test), average=\"macro\")\n",
    "logreg_class_test_score = f1_score(y_test, logreg_class_weight.predict(X_test), average=\"macro\")\n",
    "tree_class_test_score = f1_score(y_test, tree_class_weight.predict(X_test), average=\"macro\")\n",
    "\n",
    "print(f\"Class Weight SVC train score: {svc_class_train_score}\")\n",
    "print(f\"Class Weight SVC test score: {svc_class_test_score}\")\n",
    "print(f\"Class Weight Logistic Regression train score: {logreg_class_train_score}\")\n",
    "print(f\"Class Weight Logistic Regression test score: {logreg_class_test_score}\")\n",
    "print(f\"Class Weight Decision Tree train score: {tree_class_train_score}\")\n",
    "print(f\"Class Weight Decision Tree test score: {tree_class_test_score}\")"
   ]
  },
  {
   "cell_type": "markdown",
   "metadata": {
    "id": "1z8fgAenp9bC"
   },
   "source": [
    "**Using `sample_weights`**"
   ]
  },
  {
   "cell_type": "markdown",
   "metadata": {
    "id": "sE_HFdRmNRo2"
   },
   "source": [
    "The last method to deal with the imbalance is to attach more weight to the samples from the minority class. This can be done using `sklearn`'s `compute_sample_weight` function."
   ]
  },
  {
   "cell_type": "code",
   "execution_count": null,
   "metadata": {
    "id": "ykyl872dqAB-"
   },
   "outputs": [],
   "source": [
    "from sklearn.utils.class_weight import compute_sample_weight"
   ]
  },
  {
   "cell_type": "code",
   "execution_count": null,
   "metadata": {
    "id": "MA97l_8wqs7X"
   },
   "outputs": [],
   "source": [
    "sample_weights = compute_sample_weight(\"balanced\", y_train)"
   ]
  },
  {
   "cell_type": "code",
   "execution_count": null,
   "metadata": {
    "id": "aR_vMtGAqxUn"
   },
   "outputs": [],
   "source": [
    "svc_sample_weights = SVC(**baseline_svc_params)\n",
    "logreg_sample_weights = LogisticRegression(**baseline_logreg_params, solver=\"liblinear\")\n",
    "tree_sample_weights = DecisionTreeClassifier(**baseline_tree_params)"
   ]
  },
  {
   "cell_type": "code",
   "execution_count": null,
   "metadata": {
    "colab": {
     "base_uri": "https://localhost:8080/"
    },
    "id": "3tTUdTAVrOa6",
    "outputId": "d824b374-b8f0-44d5-bfd2-631422201f21"
   },
   "outputs": [
    {
     "name": "stdout",
     "output_type": "stream",
     "text": [
      "Sample Weights SVC train score: 0.9039305766072113\n",
      "Sample Weights SVC test score: 0.829674868674819\n",
      "Sample Weights Logistic Regression train score: 0.7730223776731191\n",
      "Sample Weights Logistic Regression test score: 0.7672956265348699\n",
      "Sample Weights Decision Tree train score: 0.7906794652380246\n",
      "Sample Weights Decision Tree test score: 0.7469252148215904\n"
     ]
    }
   ],
   "source": [
    "svc_sample_weights.fit(X_train, y_train, sample_weight=sample_weights)\n",
    "logreg_sample_weights.fit(X_train, y_train, sample_weight=sample_weights)\n",
    "tree_sample_weights.fit(X_train, y_train, sample_weight=sample_weights)\n",
    "\n",
    "svc_sample_train_score = f1_score(y_train, svc_sample_weights.predict(X_train), average=\"macro\")\n",
    "logreg_sample_train_score = f1_score(y_train, logreg_sample_weights.predict(X_train), average=\"macro\")\n",
    "tree_sample_train_score = f1_score(y_train, tree_sample_weights.predict(X_train), average=\"macro\")\n",
    "\n",
    "svc_sample_test_score = f1_score(y_test, svc_sample_weights.predict(X_test), average=\"macro\")\n",
    "logreg_sample_test_score = f1_score(y_test, logreg_sample_weights.predict(X_test), average=\"macro\")\n",
    "tree_sample_test_score = f1_score(y_test, tree_sample_weights.predict(X_test), average=\"macro\")\n",
    "\n",
    "print(f\"Sample Weights SVC train score: {svc_sample_train_score}\")\n",
    "print(f\"Sample Weights SVC test score: {svc_sample_test_score}\")\n",
    "print(f\"Sample Weights Logistic Regression train score: {logreg_sample_train_score}\")\n",
    "print(f\"Sample Weights Logistic Regression test score: {logreg_sample_test_score}\")\n",
    "print(f\"Sample Weights Decision Tree train score: {tree_sample_train_score}\")\n",
    "print(f\"Sample Weights Decision Tree test score: {tree_sample_test_score}\")"
   ]
  },
  {
   "cell_type": "markdown",
   "metadata": {
    "id": "7fPR2Or9rrEf"
   },
   "source": [
    "**Visualising the performance**"
   ]
  },
  {
   "cell_type": "markdown",
   "metadata": {
    "id": "AYmhFiTvNgYe"
   },
   "source": [
    "We then visualise the performance of all the sampling strategies using the training set."
   ]
  },
  {
   "cell_type": "code",
   "execution_count": null,
   "metadata": {
    "colab": {
     "base_uri": "https://localhost:8080/",
     "height": 1000
    },
    "id": "Rj5oYmAortb6",
    "outputId": "ec1d9f75-2084-4489-cf1b-b49abfed97d5"
   },
   "outputs": [
    {
     "data": {
      "image/png": "[encoded data removed]",
      "text/plain": [
       "<Figure size 960x720 with 1 Axes>"
      ]
     },
     "metadata": {},
     "output_type": "display_data"
    }
   ],
   "source": [
    "plt.figure(dpi=150)\n",
    "plt.title(\"Undersampling\")\n",
    "plt.bar([\"SVC baseline\",\"SVC undersampling\",\"Logistic Regression baseline\",\"Logistic Regression undersampling\",\"Decision Tree baseline\",\"Decision Tree undersampling\"],\n",
    "        [svc_train_score, svc_undersampling_train_score, logreg_train_score, logreg_undersampling_train_score, tree_train_score, tree_undersampling_train_score])\n",
    "plt.xticks(rotation=90)\n",
    "plt.show()"
   ]
  },
  {
   "cell_type": "code",
   "execution_count": null,
   "metadata": {
    "colab": {
     "base_uri": "https://localhost:8080/",
     "height": 996
    },
    "id": "Q7KkTBSQuSb-",
    "outputId": "2792d6e6-1fe2-4b2b-a1bc-986230406787"
   },
   "outputs": [
    {
     "data": {
      "image/png": "[encoded data removed]",
      "text/plain": [
       "<Figure size 960x720 with 1 Axes>"
      ]
     },
     "metadata": {},
     "output_type": "display_data"
    }
   ],
   "source": [
    "plt.figure(dpi=150)\n",
    "plt.title(\"Oversampling\")\n",
    "plt.bar([\"SVC baseline\",\"SVC oversampling\",\"Logistic Regression baseline\",\"Logistic Regression oversampling\",\"Decision Tree baseline\",\"Decision Tree oversampling\"],\n",
    "        [svc_train_score, svc_oversampling_train_score, logreg_train_score, logreg_oversampling_train_score, tree_train_score, tree_oversampling_train_score])\n",
    "plt.xticks(rotation=90)\n",
    "plt.show()"
   ]
  },
  {
   "cell_type": "markdown",
   "metadata": {
    "id": "a5tPH-H_NocA"
   },
   "source": [
    "Both undersampling and oversampling achieve better training performance for all 3 algorithms than when the imbalanced dataset is used directly."
   ]
  },
  {
   "cell_type": "code",
   "execution_count": null,
   "metadata": {
    "colab": {
     "base_uri": "https://localhost:8080/",
     "height": 987
    },
    "id": "f3f5S-ghua0g",
    "outputId": "5b284029-d640-42d3-8dfa-f7582ae13163"
   },
   "outputs": [
    {
     "data": {
      "image/png": "[encoded data removed]",
      "text/plain": [
       "<Figure size 960x720 with 1 Axes>"
      ]
     },
     "metadata": {},
     "output_type": "display_data"
    }
   ],
   "source": [
    "plt.figure(dpi=150)\n",
    "plt.title(\"class_weight\")\n",
    "plt.bar([\"SVC baseline\",\"SVC class_weight\",\"Logistic Regression baseline\",\"Logistic Regression class_weight\",\"Decision Tree baseline\",\"Decision Tree class_weight\"],\n",
    "        [svc_train_score, svc_class_train_score, logreg_train_score, logreg_class_train_score, tree_train_score, tree_class_train_score])\n",
    "plt.xticks(rotation=90)\n",
    "plt.show()"
   ]
  },
  {
   "cell_type": "code",
   "execution_count": null,
   "metadata": {
    "colab": {
     "base_uri": "https://localhost:8080/",
     "height": 1000
    },
    "id": "CSa9XuISujHz",
    "outputId": "b677d066-bff8-4c09-8373-9c4d7e3cd7f6"
   },
   "outputs": [
    {
     "data": {
      "image/png": "[encoded data removed]",
      "text/plain": [
       "<Figure size 960x720 with 1 Axes>"
      ]
     },
     "metadata": {},
     "output_type": "display_data"
    }
   ],
   "source": [
    "plt.figure(dpi=150)\n",
    "plt.title(\"sample_weights\")\n",
    "plt.bar([\"SVC baseline\",\"SVC sample_weights\",\"Logistic Regression baseline\",\"Logistic Regression sample_weights\",\"Decision Tree baseline\",\"Decision Tree sample_weights\"],\n",
    "        [svc_train_score, svc_sample_train_score, logreg_train_score, logreg_sample_train_score, tree_train_score, tree_sample_train_score])\n",
    "plt.xticks(rotation=90)\n",
    "plt.show()"
   ]
  },
  {
   "cell_type": "markdown",
   "metadata": {
    "id": "q8fQtdMxN1rO"
   },
   "source": [
    "Both class weights and sample weights achieve poorer training performance for all 3 algorithms than when the imbalanced dataset is used directly.\n",
    "\n",
    "Thus, we can conclude that oversampling or undersampling are better strategies to deal with the class imbalance of the given dataset."
   ]
  }
 ],
 "metadata": {
  "colab": {
   "provenance": []
  },
  "kernelspec": {
   "display_name": "Python 3 (ipykernel)",
   "language": "python",
   "name": "python3"
  },
  "language_info": {
   "codemirror_mode": {
    "name": "ipython",
    "version": 3
   },
   "file_extension": ".py",
   "mimetype": "text/x-python",
   "name": "python",
   "nbconvert_exporter": "python",
   "pygments_lexer": "ipython3",
   "version": "3.11.7"
  }
 },
 "nbformat": 4,
 "nbformat_minor": 1
}
